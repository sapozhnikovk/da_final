{
 "cells": [
  {
   "cell_type": "markdown",
   "id": "c38c2cb0",
   "metadata": {},
   "source": [
    "## Итоговое задание\n",
    "Вы получили данные от интернет-магазина, который продает товары онлайн. Вашей задачей является анализ данных, выявление инсайтов и предоставление рекомендаций для улучшения показателей магазина.\n",
    "\n",
    "#### Данные\n",
    "\n",
    "База данных (SQL):\n",
    "\n",
    "__Orders__ — информация о заказах (ID заказа, ID клиента, дата заказа, сумма заказа, способ оплаты).  \n",
    "__Customers__ — информация о клиентах (ID клиента, возраст, пол, город).  \n",
    "__Products__ — информация о товарах (ID товара, название товара, категория, цена).  \n",
    "__OrderItems__ — информация о товарах в заказах (ID заказа, ID товара, количество).  \n",
    "__Visits__ — данные о посещениях сайта (ID клиента, дата визита, источник трафика, версия сайта).  \n",
    "-- версия сайта используется только для проведения АВ теста\n",
    "\n",
    "CSV файлы:\n",
    "\n",
    "__Promotions.csv__ — данные о маркетинговых акциях (ID акции, ID товара, дата начала акции, дата окончания акции).  \n",
    "__Weather.csv__ — данные о погоде (дата, город, температура, осадки) для анализа влияния погодных условий на продажи.\n",
    "\n",
    "\n",
    "### Задания\n",
    "\n",
    "#### Исследование данных:\n",
    "\n",
    "Проведите первичный анализ всех доступных данных (SQL, CSV).  \n",
    "Проверьте наличие пропусков и дубликатов. Опишите структуру данных, выделите ключевые переменные.\n",
    "\n",
    "\n",
    "#### Обогащение данных:\n",
    "\n",
    "- Загрузите данные о маркетинговых акциях из CSV файла и присоедините их к основным данным.  \n",
    "- Извлеките данные о погоде для городов, представленных в базе данных. Присоедините их к данным о заказах по дате и городу.\n",
    "\n",
    "\n",
    "#### Анализ продаж:\n",
    "\n",
    "- Определите влияние маркетинговых акций на продажи. Какие товары лучше продавались во время акций?  \n",
    "- Выявите, как погодные условия влияли на количество заказов в разных городах. Например, увеличивались ли продажи в дождливые дни?\n",
    "\n",
    "\n",
    "#### Сегментация клиентов:\n",
    "\n",
    "- Проведите сегментацию клиентов по частоте покупок и сумме потраченных средств. Определите, какие сегменты наиболее ценны для бизнеса.  \n",
    "- Проанализируйте влияние акций на поведение клиентов из разных сегментов.\n",
    "\n",
    "\n",
    "#### Анализ трафика:\n",
    "\n",
    "Проанализируйте, какие источники трафика приводят наиболее платежеспособных клиентов. Влияют ли маркетинговые акции на привлечение клиентов через определенные каналы?\n",
    "\n",
    "\n",
    "#### Поведение клиентов:\n",
    "\n",
    "- Найдите среднее количество дней между заказами для активных клиентов. Как меняется этот показатель в зависимости от участия в акциях?\n",
    "- Проведите анализ по возрастным группам: какие товары и категории чаще покупают разные возрастные категории? Как на это влияют акции?\n",
    "\n",
    "\n",
    "#### Визуализация данных:\n",
    "\n",
    "Постройте графики, которые визуализируют директору ключевые метрики: динамику продаж по месяцам, влияние погоды и акций на продажи, распределение возрастов клиентов и т.д. Покажите все, что по вашему мнению, важно подсветить директору для принятия управленческих решений.\n",
    "\n",
    "\n",
    "#### Продуктовые метрики:\n",
    "\n",
    "Рассчитайте основные продуктовые метрики: DAU, CAC (стоимость привлечения клиента), LTV (пожизненная ценность клиента).\n",
    "\n",
    "\n",
    "#### A/B тестирование:\n",
    "\n",
    "Компания тестирует две разные версии главной страницы своего сайта — версию A (стандартная страница) и версию B (страница с обновленным дизайном, где более активно представлены рекламные акции).  \n",
    "Для каждой версии страницы собираются данные о визитах пользователей и их конверсии в заказы. Ваша задача — провести A/B тест и определить, есть ли статистически значимая разница в конверсии между этими двумя версиями.\n",
    "\n",
    "\n",
    "#### Рекомендации:\n",
    "\n",
    "На основе анализа данных, предложите три ключевые рекомендации по улучшению показателей магазина, учитывая влияние акций и внешних факторов (например, погоды).\n",
    "\n",
    "\n",
    "### Дополнительно:  \n",
    "\n",
    "Все расчеты должны сопровождаться пояснениями.  \n",
    "Используйте SQL для извлечения данных, Python для обработки, обогащения и визуализации, статистические методы для проведения A/B тестов."
   ]
  },
  {
   "cell_type": "code",
   "execution_count": 1,
   "id": "965f54a4",
   "metadata": {},
   "outputs": [],
   "source": [
    "# Пример подключение к базе данных\n",
    "\n",
    "import sqlite3\n",
    "import pandas as pd\n",
    "\n",
    "# Подключение к базе данных\n",
    "conn = sqlite3.connect('ecommerce_data.db')\n",
    "\n",
    "# Создание курсора для выполнения SQL-запросов\n",
    "cursor = conn.cursor()\n",
    "\n",
    "# Пример SQL-запроса для получения всех заказов\n",
    "# query = '''\n",
    "# SELECT * FROM orders\n",
    "# LIMIT 10;\n",
    "# '''\n",
    "\n",
    "# Выполнение запроса и получение данных в DataFrame\n",
    "# orders_df = pd.read_sql_query(query, conn)\n",
    "\n",
    "# # Показать первые строки результата\n",
    "# print(orders_df.head())\n",
    "\n",
    "# # Выполнение более сложного запроса (например, соединение двух таблиц)\n",
    "# query = '''\n",
    "# SELECT o.order_id, o.order_date, c.city, c.gender, o.order_amount\n",
    "# FROM orders o\n",
    "# JOIN customers c ON o.customer_id = c.customer_id\n",
    "# WHERE c.city = 'Moscow'\n",
    "# AND o.order_amount > 1000\n",
    "# ORDER BY o.order_date DESC\n",
    "# LIMIT 10;\n",
    "# '''\n",
    "\n",
    "# # Получение результата\n",
    "# result_df = pd.read_sql_query(query, conn)\n",
    "\n",
    "# # Показать результат запроса\n",
    "# print(result_df)\n",
    "\n",
    "# Закрытие подключения к базе данных\n",
    "# conn.close()"
   ]
  },
  {
   "cell_type": "code",
   "execution_count": null,
   "id": "06c1c49f",
   "metadata": {},
   "outputs": [],
   "source": [
    "df_pm = pd.read_csv('Promotions.csv')\n",
    "df_wt = pd.read_csv('Weather.csv')\n",
    "df_pm.head(5)\n",
    "#df_wt.head(5)"
   ]
  },
  {
   "cell_type": "code",
   "execution_count": null,
   "id": "2c8b845f",
   "metadata": {},
   "outputs": [],
   "source": [
    "# Проверка на пропущенные значения\n",
    "print(f\"Пропущенных значений Promotions: {df_pm.isna().sum().sum()}\")\n",
    "# Проверка на дубликаты\n",
    "print(f\"Дубликатов Promotions: {df_pm.duplicated().sum()}\")\n",
    "\n",
    "print(f\"Пропущенных значений Weather: {df_wt.isna().sum().sum()}\")\n",
    "# Проверка на дубликаты\n",
    "print(f\"Дубликатов Weather: {df_wt.duplicated().sum()}\")\n",
    "# Заполняем строки с отсутвием осадков\n",
    "df_wt['precipitation'].fillna('No', inplace=True)"
   ]
  },
  {
   "cell_type": "markdown",
   "id": "7c529ac6",
   "metadata": {},
   "source": [
    "Исследование данных:\n",
    "\n",
    "Проведите первичный анализ всех доступных данных (SQL, CSV).  \n",
    "\n",
    "Проверьте наличие пропусков и дубликатов. Опишите структуру данных, выделите ключевые переменные."
   ]
  },
  {
   "cell_type": "code",
   "execution_count": null,
   "id": "596d98a9",
   "metadata": {},
   "outputs": [],
   "source": [
    "# Получаем информацию о имеющихся таблицах\n",
    "query = '''\n",
    "SELECT name FROM sqlite_master WHERE type='table';\n",
    "'''\n",
    "tables_df = pd.read_sql_query(query, conn)\n",
    "for i, row in tables_df.iterrows():\n",
    "    query = f'''\n",
    "    SELECT * FROM {row['name']}\n",
    "    LIMIT 2;\n",
    "    '''\n",
    "    result_df = pd.read_sql_query(query, conn)\n",
    "    print(f\"Название таблицы: {row['name']}\")\n",
    "    print(result_df)"
   ]
  },
  {
   "cell_type": "code",
   "execution_count": null,
   "id": "3190db80",
   "metadata": {},
   "outputs": [],
   "source": [
    "# Проверяем пропуски\n",
    "query_list = ['SELECT COUNT(*) FROM orders WHERE customer_id IS NULL;',\\\n",
    "'SELECT COUNT(*) FROM customers WHERE age IS NULL OR city IS NULL;',\\\n",
    "'SELECT COUNT(*) FROM products WHERE product_name IS NULL OR category IS NULL;',\\\n",
    "'SELECT COUNT(*) FROM order_items WHERE order_id IS NULL OR product_id IS NULL;',\\\n",
    "'SELECT COUNT(*) FROM visits WHERE customer_id IS NULL OR visit_date IS NULL;']\n",
    "\n",
    "for i in query_list:\n",
    "    query = i\n",
    "    result_df = pd.read_sql_query(query, conn)\n",
    "    print(result_df)"
   ]
  },
  {
   "cell_type": "code",
   "execution_count": null,
   "id": "9d81f86b",
   "metadata": {},
   "outputs": [],
   "source": [
    "# Проверяем дубликаты \n",
    "query_list = ['SELECT customer_id, COUNT(*) FROM customers GROUP BY customer_id HAVING COUNT(*) > 1;',\\\n",
    "'SELECT order_id, product_id, SUM(quantity) FROM order_items GROUP BY order_id, product_id HAVING SUM(quantity) > 0;']\n",
    "\n",
    "for i in query_list:\n",
    "    query = i\n",
    "    result_df = pd.read_sql_query(query, conn)\n",
    "    print(result_df)"
   ]
  },
  {
   "cell_type": "markdown",
   "id": "8eb9e5fe",
   "metadata": {},
   "source": [
    "Обогащение данных:\n",
    "\n",
    "Загрузите данные о маркетинговых акциях из CSV файла и присоедините их к основным данным.  \n",
    "\n",
    "Извлеките данные о погоде для городов, представленных в базе данных. Присоедините их к данным о заказах по дате и городу."
   ]
  },
  {
   "cell_type": "code",
   "execution_count": 7,
   "id": "f2f5f0ce",
   "metadata": {},
   "outputs": [],
   "source": [
    "# Обеденяем таблици orders и order_items\n",
    "orders = pd.read_sql_query(\"SELECT * FROM Orders\", conn)\n",
    "order_items = pd.read_sql_query(\"SELECT * FROM order_items\", conn)\n",
    "merged_orders_order_items = orders.merge(order_items, on='order_id', how='left')"
   ]
  },
  {
   "cell_type": "code",
   "execution_count": null,
   "id": "38efd7d7",
   "metadata": {},
   "outputs": [],
   "source": [
    "# Присоединение данных о маркетинговых акциях\n",
    "merged_orders_promotions = merged_orders_order_items.merge(df_pm, on='product_id', how='left')\n",
    "merged_orders_promotions"
   ]
  },
  {
   "cell_type": "code",
   "execution_count": null,
   "id": "24554c45",
   "metadata": {},
   "outputs": [],
   "source": [
    "# Присоединение данных о погоде\n",
    "customers = pd.read_sql_query(\"SELECT * FROM customers\", conn)\n",
    "merged_customers_weather = customers.merge(df_wt, on='city', how='left')\n",
    "merged_orders_weather_promo = merged_orders_promotions.merge(merged_customers_weather, on='customer_id', how='left')\n",
    "#merged_customers_weather\n",
    "#merged_visits\n",
    "#merged_orders_weather_promo['precipitation'].fillna('No', inplace=True)\n",
    "merged_orders_weather_promo"
   ]
  },
  {
   "cell_type": "markdown",
   "id": "ef81bfad",
   "metadata": {},
   "source": [
    "Анализ продаж:\n",
    "\n",
    "Определите влияние маркетинговых акций на продажи. Какие товары лучше продавались во время акций?  \n",
    "\n",
    "Выявите, как погодные условия влияли на количество заказов в разных городах. Например, увеличивались ли продажи в дождливые дни?"
   ]
  },
  {
   "cell_type": "code",
   "execution_count": null,
   "id": "a7ff099f",
   "metadata": {},
   "outputs": [],
   "source": [
    "# Влияние маркетинговых акций на продажи\n",
    "grouped_sales = merged_orders_weather_promo.groupby(['promotion_id']).agg({'order_amount': 'sum'})\n",
    "top_sold_products = grouped_sales.sort_values(by=['order_amount'], ascending=False)\n",
    "print(top_sold_products.head())"
   ]
  },
  {
   "cell_type": "code",
   "execution_count": null,
   "id": "8a4aec3b",
   "metadata": {},
   "outputs": [],
   "source": [
    "# Влияние погодных условий на продажи\n",
    "#grouped_orders = merged_orders_weather_promo.groupby(['date', 'city', 'temperature']).agg({'order_amount': 'sum'})\n",
    "#grouped_orders.head(20)\n",
    "\n",
    "grouped_orders = merged_orders_weather_promo.groupby(['city','precipitation']).agg({'order_id': 'count'})\n",
    "grouped_orders.head(20)"
   ]
  }
 ],
 "metadata": {
  "kernelspec": {
   "display_name": "Python 3",
   "language": "python",
   "name": "python3"
  },
  "language_info": {
   "codemirror_mode": {
    "name": "ipython",
    "version": 3
   },
   "file_extension": ".py",
   "mimetype": "text/x-python",
   "name": "python",
   "nbconvert_exporter": "python",
   "pygments_lexer": "ipython3",
   "version": "3.10.12"
  }
 },
 "nbformat": 4,
 "nbformat_minor": 5
}
